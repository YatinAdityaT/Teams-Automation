{
 "cells": [
  {
   "cell_type": "code",
   "execution_count": 20,
   "metadata": {},
   "outputs": [],
   "source": [
    "import os\n",
    "import re\n",
    "import sys\n",
    "import time\n",
    "import pickle\n",
    "import pprint\n",
    "import requests\n",
    "import datetime\n",
    "import numpy as np\n",
    "import pandas as pd\n",
    "from selenium import webdriver\n",
    "from collections import Counter\n",
    "from bs4 import BeautifulSoup as bs\n",
    "from get_credentials import get_creds\n",
    "from selenium.webdriver.common.keys import Keys\n",
    "from selenium.webdriver.support.ui import Select\n",
    "from selenium.webdriver.common.action_chains import ActionChains\n",
    "from selenium.common.exceptions import (NoSuchElementException,\n",
    "                                        ElementNotInteractableException,\n",
    "                                        ElementClickInterceptedException) "
   ]
  },
  {
   "cell_type": "code",
   "execution_count": 21,
   "metadata": {},
   "outputs": [],
   "source": [
    "if os.path.exists('credentials.pickle'):\n",
    "    with open('credentials.pickle','rb') as f:  \n",
    "        credentials = pickle.load(f)\n",
    "else:\n",
    "    get_creds()\n",
    "    with open('credentials.pickle','rb') as f:  \n",
    "        credentials = pickle.load(f)"
   ]
  },
  {
   "cell_type": "code",
   "execution_count": 22,
   "metadata": {},
   "outputs": [],
   "source": [
    "TEAMS_PATH =  (r'https://login.microsoftonline.com/common/oauth2/authorize?'\n",
    "               'response_type=id_token&client_id=5e3ce6c0-2b1f-4285-8d4b-75'\n",
    "               'ee78787346&redirect_uri=https%3A%2F%2Fteams.microsoft.com%2F'\n",
    "               'go&state=00b8dd1b-8f5d-4eb3-8f77-5c76ff40e3b2&&client-request'\n",
    "               '-id=d2afe301-0371-4fb6-b185-1ad0345268b5&x-client-SKU=Js&x-cli'\n",
    "               'ent-Ver=1.0.9&nonce=3afa9b8e-d754-4aae-bb73-ab6fd6bc2f33&domain_hint=')\n",
    "\n",
    "EXECUTABLE_PATH = credentials['EXECUTABLE_PATH']\n",
    "EMAIL_ID = credentials['Email_or_phone_no']\n",
    "PASSWORD = credentials['Password']\n",
    "TEAM = \"DRISHTI-ML\""
   ]
  },
  {
   "cell_type": "code",
   "execution_count": 23,
   "metadata": {},
   "outputs": [],
   "source": [
    "status = [\n",
    "    'INSTALLATION IN PROGRESS',\n",
    "    'INSTALLATION DONE',\n",
    "    \n",
    "    'ASSIGNMENT1 IN PROGRESS',\n",
    "    'ASSIGNMENT1 DONE',\n",
    "    \n",
    "    'ASSIGNMENT2 IN PROGRESS',\n",
    "    'ASSIGNMENT2 DONE',\n",
    "    \n",
    "    'ASSIGNMENT3 IN PROGRESS',\n",
    "    'ASSIGNMENT3 DONE',\n",
    "    \n",
    "    'ASSIGNMENT4 IN PROGRESS',\n",
    "    'ASSIGNMENT4 DONE',         \n",
    "]"
   ]
  },
  {
   "cell_type": "code",
   "execution_count": 24,
   "metadata": {},
   "outputs": [],
   "source": [
    "def get_bot(bot,refresh = True):\n",
    "    flag = True\n",
    "    if bot == 1: #main bot\n",
    "        print('getting main bot')\n",
    "        BOT = ('https://teams.microsoft.com/_#/school/conversations/'\n",
    "               'AUTO?threadId=19:72818b8c80fb4045bf22a2f19e8af04b@thr'\n",
    "               'ead.tacv2&ctx=channel')\n",
    "    elif bot == -1: #private bot\n",
    "        print('getting private bot')\n",
    "        BOT = ('https://teams.microsoft.com/_#/school/conversations/'\n",
    "               'BOT?threadId=19:84124691e65d4ebabaee9d78e41ee04f@thre'\n",
    "               'ad.tacv2&ctx=channel')\n",
    "    else:\n",
    "        flag = False\n",
    "        print(\"INVALID BOT CHOICE!!\")\n",
    "    if flag:\n",
    "        time.sleep(2)\n",
    "        driver.get(BOT)\n",
    "        time.sleep(2)\n",
    "        if refresh:\n",
    "            driver.refresh()\n",
    "    else:\n",
    "        sys.exit()"
   ]
  },
  {
   "cell_type": "code",
   "execution_count": 25,
   "metadata": {},
   "outputs": [],
   "source": [
    "def get_message_stuff():\n",
    "    #get all message_bodies\n",
    "    message_bodies = driver.find_elements_by_id('messageBody')\n",
    "    #get page_source and findall message_ids\n",
    "    message_ids = re.findall(r'<div id=\"(m[0-9]*)\"',str(driver.page_source))\n",
    "    return message_bodies,message_ids"
   ]
  },
  {
   "cell_type": "code",
   "execution_count": 26,
   "metadata": {},
   "outputs": [],
   "source": [
    "# #grab the message\n",
    "# def edit(message_bodies,message_ids,bot):\n",
    "#     try:\n",
    "#         print('trying to edit')\n",
    "#         time.sleep(3)\n",
    "#         message_bodies,message_ids = get_message_stuff()\n",
    "#         print('message ids:',message_ids)\n",
    "#         message_to_edit = message_bodies[INDEX_OF_MESSAGE]\n",
    "#         print(f'message to edit: {message_to_edit}\\n Scrolling message into view....')\n",
    "#         driver.execute_script(\"return arguments[0].scrollIntoView(true);\", message_to_edit)\n",
    "#         print('scrolled successfully, trying to click on body...')\n",
    "#         driver.find_element_by_xpath(\"//body\").click() #click somewhere else on the body\n",
    "#         time.sleep(0.5)\n",
    "#         print('hovering over message..')\n",
    "#         hover = ActionChains(driver).move_to_element(message_to_edit)\n",
    "#         hover.perform()\n",
    "#         time.sleep(0.5)\n",
    "#         print('hovered over message..')\n",
    "#         driver.find_element_by_css_selector('.message-actions-more').click()#click on \"...\"\n",
    "#         time.sleep(0.5)\n",
    "#         driver.find_element_by_css_selector(\"li.message-action-overflow-menu-item:nth-child(2) > button:nth-child(1) > span:nth-child(2)\").click()#select edit        \n",
    "#     except:\n",
    "#         get_bot(bot = bot,refresh = True)\n",
    "#         message_bodies,message_ids = get_message_stuff()\n",
    "#         message_bodies,message_ids = edit(message_bodies,message_ids,bot)\n",
    "#     return message_bodies,message_ids"
   ]
  },
  {
   "cell_type": "code",
   "execution_count": 27,
   "metadata": {},
   "outputs": [],
   "source": [
    "def generate_string(students):\n",
    "    student_info = ''\n",
    "    student_list = [[x]+students[x] for x in students]\n",
    "    student_list = sorted(student_list,key=lambda student_list: int(student_list[2]), reverse=True)\n",
    "    for i,s in reversed(list(enumerate(status))):\n",
    "        sub_list = [x[:-1] for x in student_list if x[-1]==f'{str(i)}']\n",
    "        if not sub_list==[]:\n",
    "            student_info+=\"\\n\\n>>> \"+s+\"\\n\\n\"\n",
    "        student_info += '\\n'.join([' '.join(ele) for ele in sub_list]) \n",
    "    return student_info"
   ]
  },
  {
   "cell_type": "code",
   "execution_count": 28,
   "metadata": {},
   "outputs": [],
   "source": [
    "def new_student_entry():\n",
    "    print('trying to get new message metadata')\n",
    "    message_bodies,message_ids = get_message_stuff()\n",
    "    \n",
    "    name,uid,cur_status = None,None,None\n",
    "    inner_html = driver.find_element_by_id(message_ids[-1]).get_attribute('innerHTML')\n",
    "    soup = bs(inner_html,'html.parser')\n",
    "    search_string = soup.findAll(\"div\", {\"class\": \"screen-reader-text\"})\n",
    "    cur_status = [a.text for a in search_string][0].replace('\\n','').split(',')[0]\n",
    "\n",
    "    try:\n",
    "        for k in range(-1,-900,-1): # climb up till you find name and uid\n",
    "            try:\n",
    "                inner_html = driver.find_element_by_id(message_ids[k]).get_attribute('innerHTML')    \n",
    "                (name,uid)= re.findall('alt=\"Profile picture of ([A-Z ]*).\" upn=\"([0-9A-Z]*)@svnitsuratg.onmicrosoft.com\"',inner_html)[0]\n",
    "                name = name.split()[-1]\n",
    "                break\n",
    "            except IndexError:\n",
    "                continue\n",
    "    except :\n",
    "        print('failed')\n",
    "        time.sleep(0.1)\n",
    "        new_student_entry()\n",
    "    print('success',name,uid,cur_status)\n",
    "   \n",
    "    assert  name != None\n",
    "    assert  uid != None\n",
    "    assert  cur_status != None\n",
    "    return name,uid,cur_status"
   ]
  },
  {
   "cell_type": "code",
   "execution_count": 29,
   "metadata": {},
   "outputs": [],
   "source": [
    "def refresh_status(bot):\n",
    "    print(f'refreshing status for bot{bot}')\n",
    "    students = update_in_code()\n",
    "    print('clicking on edit')\n",
    "    message_bodies,message_ids = get_message_stuff()\n",
    "    edit(message_bodies,message_ids,bot=bot)\n",
    "    print('dumping payload')\n",
    "    dump_payload(students,bot) "
   ]
  },
  {
   "cell_type": "code",
   "execution_count": 30,
   "metadata": {},
   "outputs": [],
   "source": [
    "def remove(students,uid,bot):\n",
    "    if uid in students:\n",
    "        del students[uid]\n",
    "        update_local()\n",
    "        students = update_in_code()\n",
    "        refresh_status(bot)\n",
    "    return students"
   ]
  },
  {
   "cell_type": "code",
   "execution_count": 31,
   "metadata": {},
   "outputs": [],
   "source": [
    "def update_local():\n",
    "    with open('students.pickle','wb') as f:\n",
    "        pickle.dump(students,f)\n",
    "\n",
    "def update_in_code():\n",
    "    with open('students.pickle','rb') as f:\n",
    "        students = pickle.load(f)\n",
    "    return students"
   ]
  },
  {
   "cell_type": "code",
   "execution_count": 32,
   "metadata": {},
   "outputs": [],
   "source": [
    "def send_reply(payload,bot):\n",
    "    try:\n",
    "        #click on reply button\n",
    "        try:\n",
    "            driver.find_elements_by_class_name('thread-action-reply-message')[-1].click()\n",
    "        except ElementClickInterceptedException:\n",
    "            time.sleep(2)\n",
    "            send_reply(payload,bot)\n",
    "        in_htlm = str(driver.find_element_by_class_name('ts-edit-box').get_attribute(\"innerHTML\"))\n",
    "        cke_contents_id_name = re.findall(r'<div id=\"(cke_[0-9]*_contents)\"',in_htlm)[0]\n",
    "        cke_wysiwyg_div  = f\"#{cke_contents_id_name} > div:nth-child(1)\"\n",
    "        cke_element = driver.find_element_by_css_selector(cke_wysiwyg_div)\n",
    "\n",
    "        #load data into clipboard\n",
    "        df = pd.DataFrame([payload])\n",
    "        df.to_clipboard(index=False,header=False)\n",
    "\n",
    "        #clear prev text\n",
    "        cke_element.send_keys(Keys.CONTROL, \"a\")\n",
    "        cke_element.send_keys(Keys.DELETE)\n",
    "\n",
    "        time.sleep(0.5)\n",
    "\n",
    "        #dump payload\n",
    "        cke_element.send_keys(Keys.CONTROL, \"v\")\n",
    "        cke_element.send_keys(Keys.RETURN)\n",
    "    #     print('success!')\n",
    "    except:\n",
    "        get_bot(bot = bot,refresh = True)\n",
    "        time.sleep(4)\n",
    "        send_reply(payload,bot)"
   ]
  },
  {
   "cell_type": "code",
   "execution_count": 33,
   "metadata": {},
   "outputs": [],
   "source": [
    "def reply(command,bot,*args):\n",
    "    \n",
    "    def add_prefix(string):\n",
    "        string = \"AUTO =>\\n\"+string\n",
    "        return string\n",
    "    \n",
    "    if command == \"STATS\":\n",
    "        departments = [re.split('U19([A-Z][A-Z])',key)[1] for key in students]\n",
    "        percentages = list(map(lambda x: (x/len(students))*100,list(Counter(departments).values())))\n",
    "        percentages = [str(x) for x in list(np.round(percentages,3))]\n",
    "        departments_uniq = list(Counter(departments).keys())\n",
    "        stats = '\\n'.join([departments_uniq[i]+' --> '+percentages[i]+'%' for i in range(0,len(departments_uniq)) ])\n",
    "\n",
    "        s = [students[key][1] for key in students]\n",
    "        keys = list(Counter(s).keys())\n",
    "        values = list(Counter(s).values())\n",
    "        percentages = list(map(lambda x: (x/len(students))*100,list((Counter(s).values()))))\n",
    "        percentages = [str(x) for x in list(np.round(percentages,3))]\n",
    "        stats2 = '\\n'.join([status[int(key)]+' --> '+str(values[i])+' --> '+ percentages[i] +'%' for i,key in enumerate(keys)])\n",
    "\n",
    "        stats = f\"\\nActive Students: {len(students)}\\n\\n----Assignment wise----\\n\\n\"+stats2+\"\\n\\n----Department wise----\\n\\n\"+stats\n",
    "        payload = add_prefix(stats)\n",
    "        send_reply(payload,bot)\n",
    "        \n",
    "    elif command == \"STOP\":\n",
    "        send_reply(add_prefix(\"SHUTTING DOWN. GOODBYE :(\"),bot)\n",
    "        \n",
    "    elif command == \"SET_CHECK_PERIOD\":\n",
    "        send_reply(add_prefix(\"CHECK_PERIOD ==\"+args[0]),bot)\n",
    "        \n",
    "    elif command == \"REMOVE\":\n",
    "        send_reply(add_prefix(\"REMOVED \"+args[0]),bot)\n",
    "        \n",
    "    elif command == \"REFRESH\":\n",
    "        send_reply(add_prefix(\"REFRESHED\"),bot)\n",
    "    \n",
    "    elif command == \"STUDENT\":\n",
    "        send_reply(add_prefix(f\"Hi {args[0]} you have been added to {status[int(args[1])]}\"),bot)\n",
    "        \n",
    "    elif command == \"SWITCH_BOT\":\n",
    "        if bot == 1:\n",
    "            send_reply(add_prefix(\"SWITCHING TO PRIVATE BOT\"),bot)\n",
    "        else:\n",
    "            send_reply(add_prefix(\"SWITCHING TO MAIN BOT\"),bot)\n",
    "            \n",
    "    elif command == \"HI\":\n",
    "        send_reply(add_prefix(f\"Started at: {start}. Running for {str(datetime.timedelta(seconds=int(time.time()-start_mark)))}\"),bot)\n",
    "        \n",
    "    else: #incorrect command\n",
    "        send_reply(add_prefix(\"INVALID COMMAND\"),bot)"
   ]
  },
  {
   "cell_type": "code",
   "execution_count": 34,
   "metadata": {},
   "outputs": [],
   "source": [
    "def valid(students,uid,name,cur_status,bot):\n",
    "    print('status valid')\n",
    "\n",
    "    #assign students[uid] to fresh values\n",
    "    #and save students locally\n",
    "    students[uid]=[name,cur_status]\n",
    "    message_bodies,message_ids = get_message_stuff()\n",
    "    update_local()     \n",
    "    update_in_code()\n",
    "    print('clicking on edit')\n",
    "    message_bodies,message_ids = edit(message_bodies,message_ids,bot=bot)\n",
    "    print('dumping payload')\n",
    "    dump_payload(students,bot)     \n",
    "    \n",
    "    reply('STUDENT',bot,name,cur_status)"
   ]
  },
  {
   "cell_type": "code",
   "execution_count": 332,
   "metadata": {},
   "outputs": [],
   "source": [
    "def detect_change(num_of_messages,students,bot,sleep_time=1):\n",
    "    while True:\n",
    "        message_bodies,message_ids = get_message_stuff() \n",
    "        command=None\n",
    "        print(num_of_messages,len(message_ids))\n",
    "        \n",
    "        if num_of_messages > len(message_ids):\n",
    "            num_of_messages = len(message_ids)\n",
    "            \n",
    "        if len(message_ids) > num_of_messages + 1:\n",
    "            num_of_messages = len(message_ids)\n",
    "            \n",
    "        \n",
    "        #check if num_of_messages is greater that what it was\n",
    "        if num_of_messages < len(message_ids):\n",
    "            num_of_messages = len(message_ids)       \n",
    "            print('change detected')\n",
    "            time.sleep(0.2)\n",
    "            \n",
    "            #get student data\n",
    "            name,uid,cur_status = new_student_entry()\n",
    "            \n",
    "#             if cur_status[-1] == 'HI':\n",
    "#                 reply(cur_status,bot)\n",
    "#                 num_of_messages+=1\n",
    "            \n",
    "            \n",
    "            #check if ME, and if ADMIN_COMMAND\n",
    "            if name==\"ADITYA\" and uid==\"U18EC013\" and cur_status.split(' ')[0]==\"AUTO\":\n",
    "                cur_status_split = cur_status.split(' ')\n",
    "                if len(cur_status_split)== 2:\n",
    "                    command = cur_status_split[-1]\n",
    "                elif len(cur_status_split)== 3:\n",
    "                    command = cur_status_split[-2]\n",
    "                    \n",
    "                if command==\"STATS\":\n",
    "                    reply(command,bot)\n",
    "                    num_of_messages+=1\n",
    "                    \n",
    "                elif command==\"STOP\":\n",
    "                    reply(command,bot)\n",
    "                    num_of_messages+=1\n",
    "                    print('STOP command triggered. exiting...')\n",
    "                    break\n",
    "                    \n",
    "                elif command==\"SET_CHECK_PERIOD\":\n",
    "                    sleep_time = int(cur_status_split[-1])\n",
    "                    reply(command,bot,str(sleep_time))\n",
    "                    num_of_messages+=1\n",
    "                    \n",
    "                    \n",
    "                elif command==\"REMOVE\":\n",
    "                    uid = cur_status_split[-1]\n",
    "                    students = remove(students,uid,bot)\n",
    "                    reply(command,bot,uid)\n",
    "                    num_of_messages+=1\n",
    "                    \n",
    "                    \n",
    "                elif command==\"REFRESH\":\n",
    "                    refresh_status(bot)\n",
    "                    reply(command,bot)\n",
    "                    num_of_messages+=1\n",
    "                    \n",
    "                    \n",
    "                elif command==\"SWITCH_BOT\":\n",
    "                    reply(command,bot)\n",
    "                    num_of_messages+=1\n",
    "                    break\n",
    "                    \n",
    "                else:\n",
    "                    reply(command,bot)  \n",
    "                    num_of_messages+=1\n",
    "                    \n",
    "            #check if other admins        \n",
    "            elif ((name==\"MEET\" and uid==\"U18CO075\")or(name==\"KESHRI\" and uid==\"U18EC097\")or(name==\"PARTH\" and uid==\"U18CO014\")) and cur_status.split(' ')[0]==\"AUTO\":\n",
    "                cur_status_split = cur_status.split(' ')\n",
    "                if len(cur_status_split)== 2:\n",
    "                    command = cur_status_split[-1]\n",
    "                elif len(cur_status_split)== 3:\n",
    "                    command = cur_status_split[-2]\n",
    "                    \n",
    "                if command==\"STATS\":\n",
    "                    reply(command,bot)\n",
    "                    num_of_messages+=1\n",
    "                    \n",
    "                elif command==\"SET_CHECK_PERIOD\":\n",
    "                    sleep_time = int(cur_status_split[-1])\n",
    "                    reply(command,bot,str(sleep_time))\n",
    "                    num_of_messages+=1\n",
    "                    \n",
    "                    \n",
    "                elif command==\"REMOVE\":\n",
    "                    uid = cur_status_split[-1]\n",
    "                    students = remove(students,uid,bot)\n",
    "                    reply(command,bot,uid)\n",
    "                    num_of_messages+=1\n",
    "                    \n",
    "                    \n",
    "                elif command==\"REFRESH\":\n",
    "                    refresh_status(bot)\n",
    "                    reply(command,bot)\n",
    "                    num_of_messages+=1\n",
    "                    \n",
    "                else:\n",
    "                    reply(command,bot)  \n",
    "                    num_of_messages+=1\n",
    "\n",
    "            #checks if student isn't already available and status is a number\n",
    "            elif (not uid in students) and (cur_status in str(list(range(0,len(status))))):\n",
    "                valid(students,uid,name,cur_status,bot)\n",
    "                        \n",
    "            #check if student status is fresh and is a number\n",
    "            elif (students[uid]!= [name,cur_status]) and (cur_status in str(list(range(0,len(status))))):\n",
    "                valid(students,uid,name,cur_status,bot)\n",
    "        else:\n",
    "            print('waiting for message...')\n",
    "            time.sleep(sleep_time)\n",
    "            \n",
    "    if command==\"SWITCH_BOT\":\n",
    "        bot = bot*-1\n",
    "        get_bot(bot = bot,refresh = False)\n",
    "        detect_change(num_of_messages,students,bot=bot)"
   ]
  },
  {
   "cell_type": "code",
   "execution_count": 338,
   "metadata": {},
   "outputs": [],
   "source": [
    "def dump_payload(students,bot):\n",
    "    try:\n",
    "        #get payload\n",
    "        payload = generate_string(students)\n",
    "        print('Payload:\\n',payload)\n",
    "\n",
    "        #find cke_element to dump payload into\n",
    "        message_ids = re.findall(r'<div id=\"(m[0-9]*)\"',str(driver.page_source))\n",
    "        message_id_outer_htlm = str(driver.find_element_by_id(message_ids[INDEX_OF_MESSAGE]).get_attribute('outerHTML'))\n",
    "        cke_contents_id_name = re.findall(r'<div id=\"(cke_[0-9]*_contents)\"',message_id_outer_htlm)[0]\n",
    "        cke_wysiwyg_div  = f\"#{cke_contents_id_name} > div:nth-child(1)\"\n",
    "        cke_element = driver.find_element_by_css_selector(cke_wysiwyg_div)\n",
    "\n",
    "        #load data into clipboard\n",
    "        df = pd.DataFrame([payload])\n",
    "        df.to_clipboard(index=False,header=False)\n",
    "\n",
    "        #clear prev text\n",
    "        cke_element.send_keys(Keys.CONTROL, \"a\")\n",
    "        cke_element.send_keys(Keys.DELETE)\n",
    "\n",
    "        time.sleep(0.5)\n",
    "\n",
    "        #dump payload\n",
    "        cke_element.send_keys(Keys.CONTROL, \"v\")\n",
    "        cke_element.send_keys(Keys.RETURN)\n",
    "        print('success!')\n",
    "        \n",
    "    except:\n",
    "        traceback.print_exc()\n",
    "        print('something went wrong in dump_payload... refreshing')\n",
    "        get_bot(bot = bot,refresh = True)\n",
    "        edit(message_bodies, message_ids, bot)\n",
    "        time.sleep(5)\n",
    "        dump_payload(students,bot)"
   ]
  },
  {
   "cell_type": "code",
   "execution_count": 339,
   "metadata": {},
   "outputs": [],
   "source": [
    "def main(bot,NEW_SESSION=False):\n",
    "    if NEW_SESSION:\n",
    "        \n",
    "        #get teams' login page\n",
    "        driver.get(TEAMS_PATH)\n",
    "        time.sleep(1)\n",
    "\n",
    "        try:\n",
    "            #try adding email\n",
    "            email = driver.find_element_by_xpath('//*[@id=\"i0116\"]')\n",
    "            email.send_keys(EMAIL_ID) \n",
    "            email.send_keys(Keys.RETURN)\n",
    "        except NoSuchElementException:\n",
    "            #if not found then find and click stored email\n",
    "            driver.find_element_by_xpath('/html/body/div/form[1]/div/div/div[1]/div[2]/div[2]/div/div/div/div[2]/div/div/div[1]/div/div/div/div[2]/div').click()\n",
    "\n",
    "        time.sleep(1)\n",
    "\n",
    "        #enter password\n",
    "        password = driver.find_element_by_xpath('//*[@id=\"i0118\"]')\n",
    "        password.send_keys(PASSWORD) \n",
    "        time.sleep(0.1)\n",
    "        password.send_keys(Keys.RETURN)\n",
    "\n",
    "        time.sleep(2)\n",
    "\n",
    "        #hit yes\n",
    "        driver.find_element_by_xpath('//*[@id=\"idSIButton9\"]').click()\n",
    "\n",
    "        time.sleep(5)\n",
    "\n",
    "    get_bot(bot=bot,refresh=False)\n",
    "    \n",
    "    time.sleep(4)\n",
    "    \n",
    "    message_bodies,message_ids = get_message_stuff()\n",
    "    num_of_messages = len(message_ids)\n",
    "    print(num_of_messages)\n",
    "    \n",
    "    students = update_in_code() \n",
    "    detect_change(num_of_messages,students,bot=bot,sleep_time=2)"
   ]
  },
  {
   "cell_type": "code",
   "execution_count": 340,
   "metadata": {},
   "outputs": [],
   "source": [
    "#grab the message\n",
    "def edit(message_bodies,message_ids,bot):\n",
    "#     import pdb;pdb.set_trace()\n",
    "    try:\n",
    "#         print('trying to edit')\n",
    "        time.sleep(3)\n",
    "        message_bodies,message_ids = get_message_stuff()\n",
    "#         print('message ids:',message_ids)\n",
    "        message_to_edit = message_bodies[INDEX_OF_MESSAGE]\n",
    "#         print(f'message to edit: {message_to_edit}\\n Scrolling message into view....')\n",
    "        driver.execute_script(\"return arguments[0].scrollIntoView(true);\", message_to_edit)\n",
    "    \n",
    "        top()\n",
    "#         print('scrolled successfully, trying to click on body...')\n",
    "#         driver.find_element_by_xpath(\"//body\").click() #click somewhere else on the body\n",
    "        time.sleep(0.5)\n",
    "        message_bodies,message_ids = get_message_stuff()\n",
    "        message_to_edit = message_bodies[INDEX_OF_MESSAGE]\n",
    "        print('hovering over message..')\n",
    "        hover = ActionChains(driver).move_to_element(message_to_edit)\n",
    "        hover.perform()\n",
    "        time.sleep(0.5)\n",
    "        print('hovered over message..')\n",
    "        driver.find_element_by_css_selector('.message-actions-more').click()#click on \"...\"\n",
    "        print('clicked on ...')\n",
    "        time.sleep(0.5)\n",
    "        driver.find_element_by_css_selector(\"li.message-action-overflow-menu-item:nth-child(2) > button:nth-child(1) > span:nth-child(2)\").click()#select edit   \n",
    "        print('clicked on edit.')\n",
    "    except Exception:\n",
    "        traceback.print_exc()\n",
    "        print('failed. trying to get bot...')\n",
    "        get_bot(bot = bot,refresh = True)\n",
    "        message_bodies,message_ids = get_message_stuff()\n",
    "        message_bodies,message_ids = edit(message_bodies,message_ids,bot)\n",
    "    return message_bodies,message_ids"
   ]
  },
  {
   "cell_type": "code",
   "execution_count": 365,
   "metadata": {},
   "outputs": [],
   "source": [
    "BOT = -1\n",
    "INDEX_OF_MESSAGE = 1\n",
    "NEW_SESSION = False"
   ]
  },
  {
   "cell_type": "code",
   "execution_count": null,
   "metadata": {},
   "outputs": [],
   "source": [
    "#m1591835029919 > div:nth-child(3) > div:nth-child(1) > div:nth-child(2) > see-more:nth-child(1) > div:nth-child(1) > div:nth-child(1)"
   ]
  },
  {
   "cell_type": "code",
   "execution_count": 366,
   "metadata": {
    "scrolled": true
   },
   "outputs": [
    {
     "name": "stdout",
     "output_type": "stream",
     "text": [
      "getting private bot\n",
      "16\n",
      "16 16\n",
      "waiting for message...\n",
      "16 16\n",
      "waiting for message...\n",
      "16 16\n",
      "waiting for message...\n",
      "16 16\n",
      "waiting for message...\n",
      "16 16\n",
      "waiting for message...\n",
      "16 16\n",
      "waiting for message...\n",
      "16 16\n",
      "waiting for message...\n",
      "16 16\n",
      "waiting for message...\n",
      "16 16\n",
      "waiting for message...\n",
      "16 16\n",
      "waiting for message...\n",
      "16 16\n",
      "waiting for message...\n",
      "16 16\n",
      "waiting for message...\n",
      "16 16\n",
      "waiting for message...\n",
      "16 16\n",
      "waiting for message...\n",
      "16 16\n",
      "waiting for message...\n",
      "16 16\n",
      "waiting for message...\n",
      "16 16\n",
      "waiting for message...\n",
      "16 16\n",
      "waiting for message...\n",
      "16 16\n",
      "waiting for message...\n",
      "16 16\n",
      "waiting for message...\n",
      "16 16\n",
      "waiting for message...\n",
      "16 16\n",
      "waiting for message...\n",
      "16 16\n",
      "waiting for message...\n",
      "16 16\n",
      "waiting for message...\n",
      "16 16\n",
      "waiting for message...\n",
      "16 16\n",
      "waiting for message...\n",
      "16 16\n",
      "waiting for message...\n",
      "16 16\n",
      "waiting for message...\n",
      "16 16\n",
      "waiting for message...\n",
      "16 16\n",
      "waiting for message...\n",
      "16 16\n",
      "waiting for message...\n",
      "16 16\n",
      "waiting for message...\n",
      "16 16\n",
      "waiting for message...\n",
      "16 16\n",
      "waiting for message...\n",
      "16 16\n",
      "waiting for message...\n",
      "16 16\n",
      "waiting for message...\n",
      "16 16\n",
      "waiting for message...\n",
      "16 16\n",
      "waiting for message...\n",
      "16 16\n",
      "waiting for message...\n",
      "16 16\n",
      "waiting for message...\n",
      "16 16\n",
      "waiting for message...\n",
      "16 16\n",
      "waiting for message...\n",
      "16 16\n",
      "waiting for message...\n",
      "16 16\n",
      "waiting for message...\n",
      "16 16\n",
      "waiting for message...\n",
      "16 16\n",
      "waiting for message...\n",
      "16 16\n",
      "waiting for message...\n",
      "16 16\n",
      "waiting for message...\n",
      "16 16\n",
      "waiting for message...\n",
      "16 16\n",
      "waiting for message...\n",
      "16 16\n",
      "waiting for message...\n",
      "16 16\n",
      "waiting for message...\n",
      "16 16\n",
      "waiting for message...\n",
      "16 16\n",
      "waiting for message...\n",
      "16 16\n",
      "waiting for message...\n",
      "16 16\n",
      "waiting for message...\n",
      "16 16\n",
      "waiting for message...\n",
      "16 16\n",
      "waiting for message...\n",
      "16 16\n",
      "waiting for message...\n",
      "16 16\n",
      "waiting for message...\n",
      "16 16\n",
      "waiting for message...\n",
      "16 16\n",
      "waiting for message...\n",
      "16 16\n",
      "waiting for message...\n",
      "16 16\n",
      "waiting for message...\n",
      "16 16\n",
      "waiting for message...\n",
      "16 16\n",
      "waiting for message...\n",
      "16 16\n",
      "waiting for message...\n",
      "16 16\n",
      "waiting for message...\n",
      "16 16\n",
      "waiting for message...\n",
      "16 16\n",
      "waiting for message...\n",
      "16 16\n",
      "waiting for message...\n",
      "16 16\n",
      "waiting for message...\n",
      "16 16\n",
      "waiting for message...\n",
      "16 16\n",
      "waiting for message...\n",
      "16 16\n",
      "waiting for message...\n",
      "16 16\n",
      "waiting for message...\n",
      "16 16\n",
      "waiting for message...\n",
      "16 16\n",
      "waiting for message...\n"
     ]
    },
    {
     "ename": "KeyboardInterrupt",
     "evalue": "",
     "output_type": "error",
     "traceback": [
      "\u001b[1;31m---------------------------------------------------------------------------\u001b[0m",
      "\u001b[1;31mKeyboardInterrupt\u001b[0m                         Traceback (most recent call last)",
      "\u001b[1;32m<ipython-input-366-b556296d6e41>\u001b[0m in \u001b[0;36m<module>\u001b[1;34m\u001b[0m\n\u001b[0;32m      5\u001b[0m     \u001b[1;32mif\u001b[0m \u001b[0mNEW_SESSION\u001b[0m\u001b[1;33m:\u001b[0m\u001b[1;33m\u001b[0m\u001b[1;33m\u001b[0m\u001b[0m\n\u001b[0;32m      6\u001b[0m         \u001b[0mdriver\u001b[0m \u001b[1;33m=\u001b[0m \u001b[0mwebdriver\u001b[0m\u001b[1;33m.\u001b[0m\u001b[0mFirefox\u001b[0m\u001b[1;33m(\u001b[0m\u001b[0mexecutable_path\u001b[0m\u001b[1;33m=\u001b[0m\u001b[0mEXECUTABLE_PATH\u001b[0m\u001b[1;33m)\u001b[0m\u001b[1;33m\u001b[0m\u001b[1;33m\u001b[0m\u001b[0m\n\u001b[1;32m----> 7\u001b[1;33m     \u001b[0mmain\u001b[0m\u001b[1;33m(\u001b[0m\u001b[0mBOT\u001b[0m\u001b[1;33m,\u001b[0m\u001b[0mNEW_SESSION\u001b[0m\u001b[1;33m)\u001b[0m\u001b[1;33m\u001b[0m\u001b[1;33m\u001b[0m\u001b[0m\n\u001b[0m",
      "\u001b[1;32m<ipython-input-339-406049d1b0ef>\u001b[0m in \u001b[0;36mmain\u001b[1;34m(bot, NEW_SESSION)\u001b[0m\n\u001b[0;32m     39\u001b[0m \u001b[1;33m\u001b[0m\u001b[0m\n\u001b[0;32m     40\u001b[0m     \u001b[0mstudents\u001b[0m \u001b[1;33m=\u001b[0m \u001b[0mupdate_in_code\u001b[0m\u001b[1;33m(\u001b[0m\u001b[1;33m)\u001b[0m\u001b[1;33m\u001b[0m\u001b[1;33m\u001b[0m\u001b[0m\n\u001b[1;32m---> 41\u001b[1;33m     \u001b[0mdetect_change\u001b[0m\u001b[1;33m(\u001b[0m\u001b[0mnum_of_messages\u001b[0m\u001b[1;33m,\u001b[0m\u001b[0mstudents\u001b[0m\u001b[1;33m,\u001b[0m\u001b[0mbot\u001b[0m\u001b[1;33m=\u001b[0m\u001b[0mbot\u001b[0m\u001b[1;33m,\u001b[0m\u001b[0msleep_time\u001b[0m\u001b[1;33m=\u001b[0m\u001b[1;36m2\u001b[0m\u001b[1;33m)\u001b[0m\u001b[1;33m\u001b[0m\u001b[1;33m\u001b[0m\u001b[0m\n\u001b[0m",
      "\u001b[1;32m<ipython-input-332-9f7da9af27ca>\u001b[0m in \u001b[0;36mdetect_change\u001b[1;34m(num_of_messages, students, bot, sleep_time)\u001b[0m\n\u001b[0;32m    115\u001b[0m         \u001b[1;32melse\u001b[0m\u001b[1;33m:\u001b[0m\u001b[1;33m\u001b[0m\u001b[1;33m\u001b[0m\u001b[0m\n\u001b[0;32m    116\u001b[0m             \u001b[0mprint\u001b[0m\u001b[1;33m(\u001b[0m\u001b[1;34m'waiting for message...'\u001b[0m\u001b[1;33m)\u001b[0m\u001b[1;33m\u001b[0m\u001b[1;33m\u001b[0m\u001b[0m\n\u001b[1;32m--> 117\u001b[1;33m             \u001b[0mtime\u001b[0m\u001b[1;33m.\u001b[0m\u001b[0msleep\u001b[0m\u001b[1;33m(\u001b[0m\u001b[0msleep_time\u001b[0m\u001b[1;33m)\u001b[0m\u001b[1;33m\u001b[0m\u001b[1;33m\u001b[0m\u001b[0m\n\u001b[0m\u001b[0;32m    118\u001b[0m \u001b[1;33m\u001b[0m\u001b[0m\n\u001b[0;32m    119\u001b[0m     \u001b[1;32mif\u001b[0m \u001b[0mcommand\u001b[0m\u001b[1;33m==\u001b[0m\u001b[1;34m\"SWITCH_BOT\"\u001b[0m\u001b[1;33m:\u001b[0m\u001b[1;33m\u001b[0m\u001b[1;33m\u001b[0m\u001b[0m\n",
      "\u001b[1;31mKeyboardInterrupt\u001b[0m: "
     ]
    }
   ],
   "source": [
    "if __name__ == \"__main__\":\n",
    "    start = datetime.datetime.now().strftime('%d-%m-%Y %H:%M:%S')\n",
    "    start_mark = time.time()\n",
    "    students = update_in_code()\n",
    "    if NEW_SESSION:\n",
    "        driver = webdriver.Firefox(executable_path=EXECUTABLE_PATH)\n",
    "    main(BOT,NEW_SESSION)"
   ]
  },
  {
   "cell_type": "code",
   "execution_count": 353,
   "metadata": {},
   "outputs": [],
   "source": [
    "def generate_string(students):\n",
    "    student_info = ''\n",
    "    student_list = [[x]+students[x] for x in students]\n",
    "    student_list = sorted(student_list,key=lambda student_list: int(student_list[2]), reverse=True)\n",
    "    print(student_list)\n",
    "    \n",
    "    for i,s in reversed(list(enumerate(status))):\n",
    "        sub_list = [x[:-1] for x in student_list if x[-1]==f'{str(i)}']\n",
    "        print(sub_list)\n",
    "        if not sub_list==[]:\n",
    "            student_info+=\"\\n\\n>>> \"+s+\"\\n\\n\"\n",
    "        student_info += '\\n'.join([' '.join(ele) for ele in sub_list]) \n",
    "    return student_info"
   ]
  },
  {
   "cell_type": "code",
   "execution_count": 363,
   "metadata": {},
   "outputs": [],
   "source": [
    "# students = {'U19EE073': ['PRABHAKAR', '5'],\n",
    "#  'U19ME114': ['MANISH', '5'],\n",
    "#  'U19ME224': ['DHRUTIK', '5'],\n",
    "#  'U19EC029': ['GAURAV', '4'],\n",
    "#  'U19ME222': ['CHIRAG', '4'],\n",
    "#  'U19EE039': ['MUDIT', '4'],\n",
    "#  'U19EC160': ['OZA', '4'],\n",
    "#  'U19EC045': ['HEMIN', '4'],\n",
    "#  'U19EC030': ['ANSHOO', '4'],\n",
    "#  'U19ME082': ['TAKSH', '3'],\n",
    "#  'U19EC063': ['POOJA', '2'],\n",
    "#  'U19EE037': ['JANVI', '2'],\n",
    "#  'U19CS040': ['BANSEEDHAR', '2'],\n",
    "#  'U19CS044': ['JAY', '2'],\n",
    "#  'U19CH016': ['PRACHI', '2'],\n",
    "#  'U19ME133': ['JAIN', '2'],\n",
    "#  'U19CS105': ['SHASHWATHA', '1'],\n",
    "#  'U19EE060': ['PEEPAM', '1'],\n",
    "#  'U19ME108': ['ATUL', '1'],\n",
    "#  'U19EC009': ['PRAKHAR', '1'],\n",
    "#  'U19EC157': ['RISHIK', '1'],\n",
    "#  'U19ME125': ['DHEERENDRA', '1'],\n",
    "#  'U19EE031': ['HARSH', '1'],\n",
    "#  'U19EE033': ['HARSH', '1'],\n",
    "#  'U19ME002': ['KARANKUMAR', '0']}"
   ]
  },
  {
   "cell_type": "code",
   "execution_count": 362,
   "metadata": {},
   "outputs": [],
   "source": [
    "# update_local()"
   ]
  },
  {
   "cell_type": "code",
   "execution_count": 354,
   "metadata": {},
   "outputs": [],
   "source": [
    "def top():\n",
    "    stop_time = time.time()+5\n",
    "    webdriver.ActionChains(driver).click().perform()\n",
    "\n",
    "    while time.time() < stop_time:\n",
    "        webdriver.ActionChains(driver).send_keys(Keys.ESCAPE).perform()  \n",
    "        webdriver.ActionChains(driver).send_keys(Keys.HOME).perform()"
   ]
  },
  {
   "cell_type": "code",
   "execution_count": 299,
   "metadata": {},
   "outputs": [],
   "source": [
    "# update_in_code()"
   ]
  },
  {
   "cell_type": "code",
   "execution_count": 694,
   "metadata": {},
   "outputs": [],
   "source": [
    "from selenium.webdriver.support.ui import WebDriverWait"
   ]
  },
  {
   "cell_type": "code",
   "execution_count": 693,
   "metadata": {},
   "outputs": [],
   "source": [
    "def get_bot(bot,refresh = True):\n",
    "    flag = True\n",
    "    if bot == 1: #main bot\n",
    "        print('getting main bot')\n",
    "        BOT = 'https://teams.microsoft.com/_#/school/conversations/AUTO?threadId=19:72818b8c80fb4045bf22a2f19e8af04b@thread.tacv2&ctx=channel'\n",
    "    elif bot == -1: #private bot\n",
    "        print('getting private bot')\n",
    "        BOT = 'https://teams.microsoft.com/_#/school/conversations/BOT?threadId=19:84124691e65d4ebabaee9d78e41ee04f@thread.tacv2&ctx=channel'\n",
    "    else:\n",
    "        flag = False\n",
    "        print(\"INVALID BOT CHOICE!!\")\n",
    "    if flag:\n",
    "        time.sleep(2)\n",
    "        driver.get(BOT)\n",
    "        time.sleep(2)\n",
    "        if refresh:\n",
    "            driver.refresh()\n",
    "    else:\n",
    "        sys.exit()"
   ]
  },
  {
   "cell_type": "code",
   "execution_count": 344,
   "metadata": {},
   "outputs": [
    {
     "data": {
      "text/plain": [
       "{'U19EE073': ['PRABHAKAR', 5],\n",
       " 'U19ME114': ['MANISH', 5],\n",
       " 'U19ME224': ['DHRUTIK', 5],\n",
       " 'U19EC029': ['GAURAV', 4],\n",
       " 'U19ME222': ['CHIRAG', 4],\n",
       " 'U19EE039': ['MUDIT', 4],\n",
       " 'U19EC160': ['OZA', 4],\n",
       " 'U19EC045': ['HEMIN', 4],\n",
       " 'U19EC030': ['ANSHOO', 4],\n",
       " 'U19ME082': ['TAKSH', 3],\n",
       " 'U19EC063': ['POOJA', 2],\n",
       " 'U19EE037': ['JANVI', 2],\n",
       " 'U19CS040': ['BANSEEDHAR', 2],\n",
       " 'U19CS044': ['JAY', 2],\n",
       " 'U19CH016': ['PRACHI', 2],\n",
       " 'U19ME133': ['JAIN', 2],\n",
       " 'U19CS105': ['SHASHWATHA', 1],\n",
       " 'U19EE060': ['PEEPAM', 1],\n",
       " 'U19ME108': ['ATUL', 1],\n",
       " 'U19EC009': ['PRAKHAR', 1],\n",
       " 'U19EC157': ['RISHIK', 1],\n",
       " 'U19ME125': ['DHEERENDRA', 1],\n",
       " 'U19EE031': ['HARSH', 1],\n",
       " 'U19EE033': ['HARSH', 1],\n",
       " 'U19ME002': ['KARANKUMAR', 0]}"
      ]
     },
     "execution_count": 344,
     "metadata": {},
     "output_type": "execute_result"
    }
   ],
   "source": [
    "update_in_code()"
   ]
  },
  {
   "cell_type": "code",
   "execution_count": 345,
   "metadata": {},
   "outputs": [
    {
     "data": {
      "text/plain": [
       "{'U19EE073': ['PRABHAKAR', 5],\n",
       " 'U19ME114': ['MANISH', 5],\n",
       " 'U19ME224': ['DHRUTIK', 5],\n",
       " 'U19EC029': ['GAURAV', 4],\n",
       " 'U19ME222': ['CHIRAG', 4],\n",
       " 'U19EE039': ['MUDIT', 4],\n",
       " 'U19EC160': ['OZA', 4],\n",
       " 'U19EC045': ['HEMIN', 4],\n",
       " 'U19EC030': ['ANSHOO', 4],\n",
       " 'U19ME082': ['TAKSH', 3],\n",
       " 'U19EC063': ['POOJA', 2],\n",
       " 'U19EE037': ['JANVI', 2],\n",
       " 'U19CS040': ['BANSEEDHAR', 2],\n",
       " 'U19CS044': ['JAY', 2],\n",
       " 'U19CH016': ['PRACHI', 2],\n",
       " 'U19ME133': ['JAIN', 2],\n",
       " 'U19CS105': ['SHASHWATHA', 1],\n",
       " 'U19EE060': ['PEEPAM', 1],\n",
       " 'U19ME108': ['ATUL', 1],\n",
       " 'U19EC009': ['PRAKHAR', 1],\n",
       " 'U19EC157': ['RISHIK', 1],\n",
       " 'U19ME125': ['DHEERENDRA', 1],\n",
       " 'U19EE031': ['HARSH', 1],\n",
       " 'U19EE033': ['HARSH', 1],\n",
       " 'U19ME002': ['KARANKUMAR', 0]}"
      ]
     },
     "execution_count": 345,
     "metadata": {},
     "output_type": "execute_result"
    }
   ],
   "source": [
    "students"
   ]
  },
  {
   "cell_type": "code",
   "execution_count": 374,
   "metadata": {},
   "outputs": [],
   "source": [
    "_,ids = get_message_stuff()"
   ]
  },
  {
   "cell_type": "code",
   "execution_count": 375,
   "metadata": {},
   "outputs": [
    {
     "data": {
      "text/plain": [
       "['m1591604091183',\n",
       " 'm1591618310701',\n",
       " 'm1591835029919',\n",
       " 'm1592011368884',\n",
       " 'm1592011454067',\n",
       " 'm1592011706155',\n",
       " 'm1592011774056',\n",
       " 'm1592012184246',\n",
       " 'm1592012512240',\n",
       " 'm1592013614116',\n",
       " 'm1592007586202',\n",
       " 'm1592013631964']"
      ]
     },
     "execution_count": 375,
     "metadata": {},
     "output_type": "execute_result"
    }
   ],
   "source": [
    "ids"
   ]
  },
  {
   "cell_type": "code",
   "execution_count": 372,
   "metadata": {},
   "outputs": [
    {
     "data": {
      "text/plain": [
       "['m1591604091183',\n",
       " 'm1591618310701',\n",
       " 'm1591833249480',\n",
       " 'm1591833256475',\n",
       " 'm1591833259877',\n",
       " 'm1591833269443',\n",
       " 'm1591833381070',\n",
       " 'm1591833384984',\n",
       " 'm1591833395136',\n",
       " 'm1591833398410',\n",
       " 'm1591833406069',\n",
       " 'm1591833416414',\n",
       " 'm1591833421991',\n",
       " 'm1591833425889',\n",
       " 'm1591833519872',\n",
       " 'm1591833856718',\n",
       " 'm1591833860313',\n",
       " 'm1591833867772',\n",
       " 'm1591833871744',\n",
       " 'm1591834962344',\n",
       " 'm1591834966103',\n",
       " 'm1591835025498',\n",
       " 'm1591835029919',\n",
       " 'm1592010441078',\n",
       " 'm1592011368884',\n",
       " 'm1592011454067',\n",
       " 'm1592011706155',\n",
       " 'm1592011774056',\n",
       " 'm1592012184246',\n",
       " 'm1592012512240',\n",
       " 'm1592013614116',\n",
       " 'm1592007586202',\n",
       " 'm1592013631964',\n",
       " 'm1592013790649',\n",
       " 'm1592013928599',\n",
       " 'm1592013944858']"
      ]
     },
     "execution_count": 372,
     "metadata": {},
     "output_type": "execute_result"
    }
   ],
   "source": [
    "ids"
   ]
  },
  {
   "cell_type": "code",
   "execution_count": 370,
   "metadata": {},
   "outputs": [
    {
     "data": {
      "text/plain": [
       "'m1591618310701'"
      ]
     },
     "execution_count": 370,
     "metadata": {},
     "output_type": "execute_result"
    }
   ],
   "source": [
    "ids[1]"
   ]
  },
  {
   "cell_type": "code",
   "execution_count": null,
   "metadata": {},
   "outputs": [],
   "source": [
    "while True:\n",
    "    driver.find_element_by_css_selector(f'{ids[1]} > ')"
   ]
  },
  {
   "cell_type": "code",
   "execution_count": 288,
   "metadata": {
    "scrolled": false
   },
   "outputs": [
    {
     "data": {
      "text/plain": [
       "1592011225.727703"
      ]
     },
     "execution_count": 288,
     "metadata": {},
     "output_type": "execute_result"
    }
   ],
   "source": [
    "time.time()"
   ]
  },
  {
   "cell_type": "code",
   "execution_count": 291,
   "metadata": {},
   "outputs": [],
   "source": [
    "#m1591835029919 > div:nth-child(3) > div:nth-child(1) > div:nth-child(2) > see-more:nth-child(1) > div:nth-child(1) > div:nth-child(1) > div:nth-child(1) > div:nth-child(1) > div:nth-child(1) > div:nth-child(1)"
   ]
  },
  {
   "cell_type": "code",
   "execution_count": null,
   "metadata": {},
   "outputs": [],
   "source": [
    "#m1591833249480 > div:nth-child(3) > div:nth-child(1) > div:nth-child(2) > see-more:nth-child(1) > div:nth-child(1) > div:nth-child(1) > div:nth-child(1) > div:nth-child(1) > div:nth-child(1) > div:nth-child(1)"
   ]
  },
  {
   "cell_type": "code",
   "execution_count": 33,
   "metadata": {},
   "outputs": [],
   "source": [
    "# students = {}\\"
   ]
  },
  {
   "cell_type": "code",
   "execution_count": 34,
   "metadata": {},
   "outputs": [],
   "source": [
    "# students['U19EE073']= ['PRABHAKAR',5]\n",
    "# students['U19ME114']= ['MANISH',5]\n",
    "# students['U19ME224']= ['DHRUTIK',5]\n",
    "# students['U19EC029']= ['GAURAV',4]\n",
    "# students['U19ME222']= ['CHIRAG',4]\n",
    "# students['U19EE039']= ['MUDIT',4]\n",
    "# students['U19EC160']= ['OZA',4]\n",
    "# students['U19EC045']= ['HEMIN',4]\n",
    "# students['U19EC030']= ['ANSHOO',4]\n",
    "# students['U19ME082']= ['TAKSH',3]\n",
    "# students['U19EC063']= ['POOJA',2]\n",
    "# students['U19EE037']= ['JANVI',2]\n",
    "# students['U19CS040']= ['BANSEEDHAR',2]\n",
    "# students['U19CS044']= ['JAY',2]\n",
    "# students['U19CH016']= ['PRACHI',2]\n",
    "# students['U19ME133']= ['JAIN',2]\n",
    "# students['U19CS105']= ['SHASHWATHA',1]\n",
    "# students['U19EE060']= ['PEEPAM',1]\n",
    "# students['U19ME108']= ['ATUL',1]\n",
    "# students['U19EC009']= ['PRAKHAR',1]\n",
    "# students['U19EC157']= ['RISHIK',1]\n",
    "# students['U19ME125']= ['DHEERENDRA',1]\n",
    "# students['U19EE031']= ['HARSH',1]\n",
    "# students['U19EE033']= ['HARSH',1]\n",
    "# students['U19ME002']= ['KARANKUMAR',0]"
   ]
  },
  {
   "cell_type": "code",
   "execution_count": 35,
   "metadata": {},
   "outputs": [],
   "source": [
    "# with open('students.pickle','wb') as f:\n",
    "#     pickle.dump(students,f)"
   ]
  },
  {
   "cell_type": "code",
   "execution_count": 468,
   "metadata": {},
   "outputs": [],
   "source": [
    "# driver.find_elements_by_class_name('thread-action-reply-message')[-1].click()"
   ]
  },
  {
   "cell_type": "code",
   "execution_count": 417,
   "metadata": {},
   "outputs": [],
   "source": [
    "# AUTO STATS\n",
    "\n",
    "# AUTO STOP\n",
    "\n",
    "# AUTO SET_CHECK_PERIOD 3\n",
    "\n",
    "# AUTO REMOVE\n",
    "\n",
    "# AUTO REFRESH\n",
    "\n",
    "# AUTO SWITCH_BOT\n"
   ]
  },
  {
   "cell_type": "code",
   "execution_count": 537,
   "metadata": {},
   "outputs": [],
   "source": [
    "# def edit(message_bodies,message_ids,bot):\n",
    "# #     try:\n",
    "#     driver.execute_script(\"window.scrollTo(0, 0);\")\n",
    "#     print('trying to edit')\n",
    "#     message_to_edit = message_bodies[INDEX_OF_MESSAGE]\n",
    "#     print(f'message to edit: {message_to_edit}\\n Scrolling message into view....')\n",
    "#     driver.execute_script(\"return arguments[0].scrollIntoView(true);\", message_to_edit)\n",
    "#     print('scrolled successfully, trying to click on body...')\n",
    "#     driver.find_element_by_xpath(\"//body\").click() #click somewhere else on the body\n",
    "#     time.sleep(0.5)\n",
    "#     print('hovering over message..')\n",
    "#     hover = ActionChains(driver).move_to_element(message_to_edit)\n",
    "#     hover.perform()\n",
    "#     time.sleep(0.5)\n",
    "#     print('hovered over message..')\n",
    "#     driver.find_element_by_css_selector('.message-actions-more').click()#click on \"...\"\n",
    "#     time.sleep(0.5)\n",
    "#     driver.find_element_by_css_selector(\"li.message-action-overflow-menu-item:nth-child(2) > button:nth-child(1) > span:nth-child(2)\").click()#select edit      \n",
    "#     driver.execute_script(\"window.scrollTo(0, document.body.scrollHeight);\")\n",
    "# #     except:\n",
    "# #         get_bot(bot = bot,refresh = True)\n",
    "# #         message_bodies,message_ids = get_message_stuff()\n",
    "# #         message_bodies,message_ids = edit(message_bodies,message_ids,bot)\n",
    "#     return message_bodies,message_ids\n",
    "        "
   ]
  },
  {
   "cell_type": "code",
   "execution_count": 538,
   "metadata": {},
   "outputs": [],
   "source": [
    "# students['U19EE033'] = ['HARSH','1']\n",
    "# students['U19ME224'] = ['DHRUTIK','5']\n",
    "# students['U19ME133'] = ['JAIN','2']\n",
    "# students['U19ME082'] = ['TAKSH','3']\n",
    "# students['U19CS040'] = ['BANSEEDHAR','2']"
   ]
  },
  {
   "cell_type": "code",
   "execution_count": 539,
   "metadata": {},
   "outputs": [],
   "source": [
    "# students"
   ]
  },
  {
   "cell_type": "code",
   "execution_count": 541,
   "metadata": {},
   "outputs": [],
   "source": [
    "# update_in_code()\n",
    "# update_local()"
   ]
  },
  {
   "cell_type": "code",
   "execution_count": 540,
   "metadata": {},
   "outputs": [],
   "source": [
    "# from selenium.webdriver.common.keys import Keys\n",
    "# html = driver.find_element_by_tag_name('html')\n",
    "# html.send_keys(Keys.HOME)"
   ]
  },
  {
   "cell_type": "code",
   "execution_count": 542,
   "metadata": {},
   "outputs": [],
   "source": [
    "# driver.execute_script(\"window.scrollTo(0, 0)\")"
   ]
  },
  {
   "cell_type": "code",
   "execution_count": 543,
   "metadata": {},
   "outputs": [],
   "source": [
    "# departments = [re.split('U19([A-Z][A-Z])',key)[1] for key in students]\n",
    "# departments"
   ]
  },
  {
   "cell_type": "code",
   "execution_count": 544,
   "metadata": {},
   "outputs": [],
   "source": [
    "# list(Counter(departments).values())"
   ]
  },
  {
   "cell_type": "code",
   "execution_count": 545,
   "metadata": {},
   "outputs": [],
   "source": [
    "# percentages = list(map(lambda x: (x/len(students))*100,list(Counter(departments).values())))\n",
    "# percentages"
   ]
  },
  {
   "cell_type": "code",
   "execution_count": 546,
   "metadata": {},
   "outputs": [],
   "source": [
    "# percentages = [str(x) for x in list(np.round(percentages,3))]\n",
    "# percentages"
   ]
  },
  {
   "cell_type": "code",
   "execution_count": 547,
   "metadata": {},
   "outputs": [],
   "source": [
    "# departments_list"
   ]
  },
  {
   "cell_type": "code",
   "execution_count": 548,
   "metadata": {},
   "outputs": [],
   "source": [
    "# percentages = list(map(lambda x: (x/len(students))*100,list(Counter(departments).values())))\n",
    "# percentages = [str(x) for x in list(np.round(percentages,3))]\n",
    "# departments_list = list(Counter(departments).keys())\n",
    "# stats = '\\n'.join([departments_list[i]+' --> '+str(list(Counter(departments).values())[i])+' --> '+percentages[i]+'%' for i in range(0,len(departments_list)) ])\n",
    "# stats = f\"Active Students: {len(students)}\\nDepartment wise:\\n\"+stats"
   ]
  },
  {
   "cell_type": "code",
   "execution_count": 549,
   "metadata": {},
   "outputs": [],
   "source": [
    "# print(stats)"
   ]
  },
  {
   "cell_type": "code",
   "execution_count": null,
   "metadata": {
    "scrolled": true
   },
   "outputs": [],
   "source": []
  },
  {
   "cell_type": "code",
   "execution_count": 550,
   "metadata": {},
   "outputs": [],
   "source": [
    "# keys "
   ]
  },
  {
   "cell_type": "code",
   "execution_count": 551,
   "metadata": {},
   "outputs": [],
   "source": [
    "# students"
   ]
  },
  {
   "cell_type": "code",
   "execution_count": 552,
   "metadata": {},
   "outputs": [],
   "source": [
    "# def add_prefix(string):\n",
    "#     string = \"AUTO =>\\n\"+string\n",
    "#     return string"
   ]
  },
  {
   "cell_type": "code",
   "execution_count": 269,
   "metadata": {},
   "outputs": [],
   "source": []
  },
  {
   "cell_type": "code",
   "execution_count": 278,
   "metadata": {},
   "outputs": [],
   "source": []
  },
  {
   "cell_type": "code",
   "execution_count": 553,
   "metadata": {},
   "outputs": [],
   "source": [
    "# print(payload)"
   ]
  },
  {
   "cell_type": "code",
   "execution_count": 191,
   "metadata": {},
   "outputs": [],
   "source": [
    "# driver.find_elements_by_class_name('thread-action-reply-message')[-1].click()\n",
    "# in_htlm = str(driver.find_element_by_class_name('ts-edit-box').get_attribute(\"innerHTML\"))\n",
    "# cke_element = re.findall(r'<div id=\"(cke_[0-9]*_contents)\"',in_htlm)[0]\n",
    "# cke_element = driver.find_element_by_id(cke_element)"
   ]
  },
  {
   "cell_type": "code",
   "execution_count": 554,
   "metadata": {},
   "outputs": [],
   "source": [
    "# cke_element.send_keys(Keys.CONTROL, \"a\")\n",
    "\n",
    "# cke_element.send_keys(Keys.DELETE)\n",
    "\n",
    "# cke_element.send_keys(Keys.CONTROL, \"v\")\n",
    "\n",
    "# cke_element.send_keys(Keys.RETURN)\n"
   ]
  },
  {
   "cell_type": "code",
   "execution_count": 555,
   "metadata": {},
   "outputs": [],
   "source": [
    "# cke_element = driver.find_element_by_css_selector(cke_wysiwyg_div)"
   ]
  },
  {
   "cell_type": "code",
   "execution_count": 556,
   "metadata": {},
   "outputs": [],
   "source": [
    "# '>\\n\\n\\nADMIN_COMMAND STOP\\n\\n, reply from'"
   ]
  },
  {
   "cell_type": "code",
   "execution_count": 694,
   "metadata": {},
   "outputs": [],
   "source": [
    "# inner_html"
   ]
  },
  {
   "cell_type": "code",
   "execution_count": 557,
   "metadata": {
    "scrolled": true
   },
   "outputs": [],
   "source": [
    "# (1/(0.69*100*0.1))*1000"
   ]
  },
  {
   "cell_type": "code",
   "execution_count": 558,
   "metadata": {},
   "outputs": [],
   "source": [
    "# \">\\n\\n\\nADMIN_COMMAND STOP\\n\\n, reply from\""
   ]
  },
  {
   "cell_type": "code",
   "execution_count": 699,
   "metadata": {},
   "outputs": [],
   "source": [
    "# inner_html"
   ]
  },
  {
   "cell_type": "code",
   "execution_count": 559,
   "metadata": {},
   "outputs": [],
   "source": [
    "# driver.execute_script(\"window.scrollTo(0, 0);\")"
   ]
  },
  {
   "cell_type": "code",
   "execution_count": 561,
   "metadata": {},
   "outputs": [],
   "source": [
    "# SCROLL_PAUSE_TIME = 0.5\n",
    "\n",
    "# # Get scroll height\n",
    "# last_height = driver.execute_script(\"return document.body.scrollHeight\")\n",
    "\n",
    "# while True:\n",
    "#     # Scroll down to bottom\n",
    "#     driver.execute_script(\"window.scrollTo(0, 0);\")\n",
    "\n",
    "#     # Wait to load page\n",
    "#     time.sleep(SCROLL_PAUSE_TIME)\n",
    "\n",
    "#     # Calculate new scroll height and compare with last scroll height\n",
    "#     new_height = driver.execute_script(\"return document.body.scrollHeight\")\n",
    "#     if new_height == last_height:\n",
    "#         break\n",
    "#     last_height = new_height"
   ]
  },
  {
   "cell_type": "code",
   "execution_count": 562,
   "metadata": {},
   "outputs": [],
   "source": [
    "# send_reply(payload,bot)"
   ]
  },
  {
   "cell_type": "code",
   "execution_count": 563,
   "metadata": {},
   "outputs": [],
   "source": [
    "# message_bodies,message_ids = get_message_stuff()\n",
    "# inner_html = driver.find_element_by_id(message_ids[-1]).get_attribute('innerHTML')\n"
   ]
  },
  {
   "cell_type": "code",
   "execution_count": 564,
   "metadata": {},
   "outputs": [],
   "source": [
    "# command"
   ]
  },
  {
   "cell_type": "code",
   "execution_count": 565,
   "metadata": {},
   "outputs": [],
   "source": [
    "# soup.find('class','screen-reader-text')"
   ]
  },
  {
   "cell_type": "code",
   "execution_count": 700,
   "metadata": {
    "scrolled": false
   },
   "outputs": [],
   "source": [
    "# message_bodies,message_ids = get_message_stuff()\n",
    "\n",
    "# inner_html = driver.find_element_by_id(message_ids[-1]).get_attribute('innerHTML')\n",
    "# re.findall(\">[^A-Z 0-9_]*([A-Z 0-9_]*).*, reply from\",inner_html,re.DOTALL)"
   ]
  },
  {
   "cell_type": "code",
   "execution_count": 566,
   "metadata": {},
   "outputs": [],
   "source": [
    "# re.findall(\"^>\\s+([A-Z]\\w+ \\w+)\\s+, reply from\",inner_html,re.DOTALL)"
   ]
  },
  {
   "cell_type": "code",
   "execution_count": 567,
   "metadata": {},
   "outputs": [],
   "source": [
    "# re.match(\">, reply from\",inner_html,re.DOTALL)"
   ]
  },
  {
   "cell_type": "code",
   "execution_count": null,
   "metadata": {},
   "outputs": [],
   "source": []
  }
 ],
 "metadata": {
  "kernelspec": {
   "display_name": "Python 3",
   "language": "python",
   "name": "python3"
  },
  "language_info": {
   "codemirror_mode": {
    "name": "ipython",
    "version": 3
   },
   "file_extension": ".py",
   "mimetype": "text/x-python",
   "name": "python",
   "nbconvert_exporter": "python",
   "pygments_lexer": "ipython3",
   "version": "3.7.5"
  }
 },
 "nbformat": 4,
 "nbformat_minor": 2
}
